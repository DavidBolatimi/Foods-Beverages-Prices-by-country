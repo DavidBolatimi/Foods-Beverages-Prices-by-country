{
 "cells": [
  {
   "cell_type": "code",
   "execution_count": null,
   "id": "2f0f2925",
   "metadata": {},
   "outputs": [],
   "source": [
    "#Imports\n",
    "import pandas as pd #Import Pandas package\n",
    "import numpy as np #Import Numpy package\n",
    "import matplotlib.pyplot as plt #Import matplotlib for data visualizations\n",
    "import seaborn as sns\n",
    "\n",
    "import scipy.stats as ss #Import Scipy stats packages for statistical analysis and tests\n",
    "pd.set_option('display.max_columns', None) #displays all columns instead of a max of 20\n",
    "#pd.set_option('display.max_rows', None) #displays all rows instead of a max of 20"
   ]
  },
  {
   "cell_type": "code",
   "execution_count": null,
   "id": "2153c33c",
   "metadata": {},
   "outputs": [],
   "source": [
    "#Current working Directory\n",
    "import os\n",
    "os.getcwd()\n",
    "#Set working directory\n",
    "os.chdir(r'C:\\Users\\Downloads')\n",
    "os.getcwd()"
   ]
  },
  {
   "cell_type": "code",
   "execution_count": null,
   "id": "a3637de2",
   "metadata": {},
   "outputs": [],
   "source": [
    "#Read in data file\n",
    "df = pd.read_csv('InsertCSVFile.csv')\n",
    "df.head()\n",
    "#df = pd.read_excel('InsertExcelFile.xlsx')\n",
    "#df.head()"
   ]
  },
  {
   "cell_type": "code",
   "execution_count": null,
   "id": "b3df9b83",
   "metadata": {},
   "outputs": [],
   "source": [
    "df.describe() #The describe() method returns description of the data in the DataFrame"
   ]
  },
  {
   "cell_type": "code",
   "execution_count": null,
   "id": "ebd2e705",
   "metadata": {},
   "outputs": [],
   "source": [
    "new_df = df[df['data_quality'] == 0] #Determine which country has the most rows with unreliable data (data_qualit = 0).\n",
    "pd = new_df.drop(columns = 'data_quality') #Drop Data quality column from dataframe\n",
    "res=pd['Country'].mode() #Get country with the most occurencies\n",
    "print(res)"
   ]
  },
  {
   "cell_type": "code",
   "execution_count": null,
   "id": "669085ff",
   "metadata": {},
   "outputs": [],
   "source": [
    "#create a new column in your DataFrame called 'Genre_description' with the new phrases in dataframe\n",
    "df['Genre_description']=np.empty(len(df),dtype=np.str)\n",
    "for i in range(0,len(df)):\n",
    "    if df['MAIN_GENRE'][i] == 'comedy':\n",
    "        df['Genre_description'][i]='This movie is funny'\n",
    "    elif df['MAIN_GENRE'][i] == 'horror' or df['MAIN_GENRE'][i] == 'thriller':\n",
    "        df['Genre_description'][i]='This movie is scary'\n",
    "    else:\n",
    "        pass\n",
    "df"
   ]
  },
  {
   "cell_type": "code",
   "execution_count": null,
   "id": "1c61f336",
   "metadata": {},
   "outputs": [],
   "source": [
    "#Print all rows of your data where the values of MAIN_GENRE are comedy, horror, and thriller\n",
    "BMN1[BMN1['MAIN_GENRE'].isin(['comedy','horror','thriller'])]"
   ]
  },
  {
   "cell_type": "code",
   "execution_count": null,
   "id": "0c627030",
   "metadata": {},
   "outputs": [],
   "source": [
    "#Create a new column called 'City/Country' that combines City and Country with a comman in between.\n",
    "df1['City/Country']=df1[['City', 'Country']].apply(lambda x: ', '.join(x[x.notnull()]), axis = 1)\n",
    "print(df1.head())\n",
    "\n",
    "#Reference: https://stackoverflow.com/questions/53999131/pandas-merge-columns-to-create-new-column-with-comma-separated-values"
   ]
  },
  {
   "cell_type": "code",
   "execution_count": null,
   "id": "474ec27e",
   "metadata": {},
   "outputs": [],
   "source": [
    "#print column range of costs, exclude non-numeric objects\n",
    "df= df.select_dtypes(exclude =['object'])\n",
    "drange =df.max() - df.min()"
   ]
  },
  {
   "cell_type": "code",
   "execution_count": null,
   "id": "242913d0",
   "metadata": {},
   "outputs": [],
   "source": [
    "df2 = pd.read_csv('CostofLivingforWeek2_2.csv')\n",
    "df2['year'] = 2022\n",
    "\n",
    "vpd = pd.concat([df1, df2], axis=0) # Concatenate our dataFrames so that our new data appears as additional rows."
   ]
  },
  {
   "cell_type": "code",
   "execution_count": null,
   "id": "97068e8f",
   "metadata": {},
   "outputs": [],
   "source": [
    "vpd =vpd.dropna() #Drop any rows with any missing data\n",
    "pdf = vpd.reset_index() #Reset our index so that it is continuous from 0 to nrows-1"
   ]
  },
  {
   "cell_type": "code",
   "execution_count": null,
   "id": "154033ad",
   "metadata": {},
   "outputs": [],
   "source": [
    "#Create a plot that allows you to visually compare average cost of fruit across years\n",
    "sns.barplot(data=ndf,x=\"year\", y =\"Avg_Fruit\",) #Barplot\n",
    "sns.scatterplot(data=df1, x =\"Avg_Veg\", y=\"Continent\",) #scatterplot\n",
    "#There are other types of plots, i.e. catplot, histogram, etc."
   ]
  },
  {
   "cell_type": "code",
   "execution_count": null,
   "id": "e83dca29",
   "metadata": {},
   "outputs": [],
   "source": [
    "#Merge two dataframes with a right join\n",
    "df1 = df2.merge(ndf, how='right', on=\"Country\")"
   ]
  },
  {
   "cell_type": "code",
   "execution_count": null,
   "id": "fb410351",
   "metadata": {},
   "outputs": [],
   "source": [
    "#Scipy Stats module"
   ]
  },
  {
   "cell_type": "code",
   "execution_count": null,
   "id": "61e64f51",
   "metadata": {},
   "outputs": [],
   "source": [
    "# Test normality for distribution of different groups (20th vs 21st Century)\n",
    "#Reference: https://docs.scipy.org/doc/scipy/reference/generated/scipy.stats.normaltest.html#scipy.stats.normaltest\n",
    "\n",
    "print(ss.normaltest(df['SCORE'][df['Century']=='20th Century'])) \n",
    "#pvalue >.05 fail to reject the null and the data is normally distributed\n",
    "\n",
    "print(ss.normaltest(df['SCORE'][df['Century']== '21st Century'])) \n",
    "#pvalue <.05 reject the null and the data is not normally distributed"
   ]
  },
  {
   "cell_type": "code",
   "execution_count": null,
   "id": "540219b1",
   "metadata": {},
   "outputs": [],
   "source": [
    "#Reference for T-test -https://docs.scipy.org/doc/scipy/reference/generated/scipy.stats.ttest_ind.html#scipy.stats.ttest_ind\n",
    "print(ss.ttest_ind(df['Spent'][df['Year']==2021],df['Spent'][df['Year']==2022]))\n",
    "#pvalue >.05 fail to reject the null; groups are not significant different\n",
    "\n",
    "tvalue, pvalue =ss.ttest_ind(df['Spent']df['Year']==2021],df['Spent'][df['Year']==2022])#pvalue >.05 fail to reject the null; groups are not significant different\n",
    "print(tvalue, pvalue)\n",
    "#Reference: Week 4 Presentation Notebook"
   ]
  },
  {
   "cell_type": "code",
   "execution_count": null,
   "id": "be17669b",
   "metadata": {},
   "outputs": [],
   "source": [
    "#One way ANOVA tests\n",
    "PG = df['DURATION'][df['age_certification']== 'PG']\n",
    "PG13 = df['DURATION'][df['age_certification']== 'PG-13']\n",
    "R = df['DURATION'][df['age_certification']== 'R']\n",
    "NC17 = df['DURATION'][df['age_certification']== 'NC-17']\n",
    "G = df['DURATION'][df['age_certification']== 'G']"
   ]
  },
  {
   "cell_type": "code",
   "execution_count": null,
   "id": "e356e342",
   "metadata": {},
   "outputs": [],
   "source": [
    "#test for similar variance\n",
    "print(ss.levene(PG,PG13, R, NC17, G)) "
   ]
  },
  {
   "cell_type": "code",
   "execution_count": null,
   "id": "3a4a8a00",
   "metadata": {},
   "outputs": [],
   "source": [
    "#F_oneway Reference:- https:c//docs.scipy.org/doc/scipy/reference/generated/scipy.stats.f_oneway.html#scipy.stats.f_oneway\n",
    "print(ss.f_oneway(PG, PG13, R, NC17, G))"
   ]
  },
  {
   "cell_type": "code",
   "execution_count": null,
   "id": "d715a8e6",
   "metadata": {},
   "outputs": [],
   "source": [
    "#Tukey_hsd Reference: - https://docs.scipy.org/doc/scipy/reference/generated/scipy.stats.tukey_hsd.html#scipy.stats.tukey_hsd\n",
    "tukres=ss.tukey_hsd(PG, PG13, R, NC17, G)\n",
    "print(tukres)"
   ]
  },
  {
   "cell_type": "code",
   "execution_count": null,
   "id": "55fb0e8a",
   "metadata": {},
   "outputs": [],
   "source": [
    "##References for other types of statistical analysis that are within the scipy stats modules:\n",
    "#Linear Regression: https://docs.scipy.org/doc/scipy/reference/generated/scipy.stats.linregress.html\n",
    "#Chi squared One way - https://docs.scipy.org/doc/scipy/reference/generated/scipy.stats.chisquare.html#scipy.stats.chisquare\n"
   ]
  }
 ],
 "metadata": {
  "kernelspec": {
   "display_name": "Python 3 (ipykernel)",
   "language": "python",
   "name": "python3"
  },
  "language_info": {
   "codemirror_mode": {
    "name": "ipython",
    "version": 3
   },
   "file_extension": ".py",
   "mimetype": "text/x-python",
   "name": "python",
   "nbconvert_exporter": "python",
   "pygments_lexer": "ipython3",
   "version": "3.9.12"
  }
 },
 "nbformat": 4,
 "nbformat_minor": 5
}
