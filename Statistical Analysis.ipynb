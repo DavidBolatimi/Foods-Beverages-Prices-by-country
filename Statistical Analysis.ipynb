{
 "cells": [
  {
   "cell_type": "markdown",
   "id": "de1b115e",
   "metadata": {},
   "source": [
    "## Week 4 Homework\n",
    "\n",
    "#### Your Name\n",
    "\n",
    "Use the materials covered in class to complete the homework assignment. Run the code below to get started."
   ]
  },
  {
   "cell_type": "code",
   "execution_count": 1,
   "id": "c88113cd",
   "metadata": {},
   "outputs": [],
   "source": [
    "import pandas as pd #pandas import\n",
    "import numpy as np #numpy import\n",
    "import matplotlib.pyplot as plt\n",
    "import seaborn as sns\n",
    "import scipy.stats as ss\n",
    "pd.set_option('display.max_columns', None) #displays all columns instead of a max of 20\n",
    "pd.set_option('display.max_rows', None) #displays all rows instead of a max of 20"
   ]
  },
  {
   "cell_type": "markdown",
   "id": "853d47b0",
   "metadata": {},
   "source": [
    "##### Prompt 1\n",
    "\n",
    "Read in the file called 'Week 3 HW Output.xlsx'. Print the first five rows of your DataFrame."
   ]
  },
  {
   "cell_type": "code",
   "execution_count": 2,
   "id": "c21c3c9d",
   "metadata": {},
   "outputs": [
    {
     "data": {
      "text/html": [
       "<div>\n",
       "<style scoped>\n",
       "    .dataframe tbody tr th:only-of-type {\n",
       "        vertical-align: middle;\n",
       "    }\n",
       "\n",
       "    .dataframe tbody tr th {\n",
       "        vertical-align: top;\n",
       "    }\n",
       "\n",
       "    .dataframe thead th {\n",
       "        text-align: right;\n",
       "    }\n",
       "</style>\n",
       "<table border=\"1\" class=\"dataframe\">\n",
       "  <thead>\n",
       "    <tr style=\"text-align: right;\">\n",
       "      <th></th>\n",
       "      <th>City</th>\n",
       "      <th>Country</th>\n",
       "      <th>Inexpensive Meal</th>\n",
       "      <th>Midrange Meal For 2</th>\n",
       "      <th>McMeal</th>\n",
       "      <th>Domestic Beer (at restaurant)</th>\n",
       "      <th>Imported Beer (at restaurant)</th>\n",
       "      <th>Cappuccino (at restaurant)</th>\n",
       "      <th>Soft Drink (at restaurant)</th>\n",
       "      <th>Water (at restaurant)</th>\n",
       "      <th>Milk (at Grocery)</th>\n",
       "      <th>White Bread</th>\n",
       "      <th>Rice</th>\n",
       "      <th>Eggs</th>\n",
       "      <th>Cheese</th>\n",
       "      <th>Chicken</th>\n",
       "      <th>Beef</th>\n",
       "      <th>Apples</th>\n",
       "      <th>Bananas</th>\n",
       "      <th>Oranges</th>\n",
       "      <th>Tomato</th>\n",
       "      <th>Potato</th>\n",
       "      <th>Onion</th>\n",
       "      <th>Lettuce</th>\n",
       "      <th>Water (at Grocery)</th>\n",
       "      <th>Wine (at Grocery)</th>\n",
       "      <th>Domestic Beer (at Grocery)</th>\n",
       "      <th>Imported Beer (at Grocery)</th>\n",
       "      <th>data_quality</th>\n",
       "      <th>City/Country</th>\n",
       "      <th>Avg_Fruit</th>\n",
       "      <th>Avg_Veg</th>\n",
       "      <th>year</th>\n",
       "      <th>Continent</th>\n",
       "    </tr>\n",
       "  </thead>\n",
       "  <tbody>\n",
       "    <tr>\n",
       "      <th>0</th>\n",
       "      <td>Delhi</td>\n",
       "      <td>India</td>\n",
       "      <td>4.90</td>\n",
       "      <td>22.04</td>\n",
       "      <td>4.28</td>\n",
       "      <td>1.84</td>\n",
       "      <td>3.67</td>\n",
       "      <td>1.78</td>\n",
       "      <td>0.48</td>\n",
       "      <td>0.19</td>\n",
       "      <td>0.73</td>\n",
       "      <td>0.51</td>\n",
       "      <td>0.88</td>\n",
       "      <td>1.01</td>\n",
       "      <td>4.32</td>\n",
       "      <td>3.79</td>\n",
       "      <td>5.57</td>\n",
       "      <td>1.80</td>\n",
       "      <td>0.75</td>\n",
       "      <td>1.01</td>\n",
       "      <td>0.60</td>\n",
       "      <td>0.36</td>\n",
       "      <td>0.41</td>\n",
       "      <td>0.70</td>\n",
       "      <td>0.36</td>\n",
       "      <td>9.79</td>\n",
       "      <td>1.53</td>\n",
       "      <td>2.51</td>\n",
       "      <td>1</td>\n",
       "      <td>Delhi, India</td>\n",
       "      <td>1.186667</td>\n",
       "      <td>0.5175</td>\n",
       "      <td>2021</td>\n",
       "      <td>Asia</td>\n",
       "    </tr>\n",
       "    <tr>\n",
       "      <th>1</th>\n",
       "      <td>Shanghai</td>\n",
       "      <td>China</td>\n",
       "      <td>5.59</td>\n",
       "      <td>40.51</td>\n",
       "      <td>5.59</td>\n",
       "      <td>1.12</td>\n",
       "      <td>4.19</td>\n",
       "      <td>3.96</td>\n",
       "      <td>0.52</td>\n",
       "      <td>0.32</td>\n",
       "      <td>2.68</td>\n",
       "      <td>2.57</td>\n",
       "      <td>1.18</td>\n",
       "      <td>2.17</td>\n",
       "      <td>18.01</td>\n",
       "      <td>4.67</td>\n",
       "      <td>12.79</td>\n",
       "      <td>2.22</td>\n",
       "      <td>1.55</td>\n",
       "      <td>2.11</td>\n",
       "      <td>1.47</td>\n",
       "      <td>0.82</td>\n",
       "      <td>1.02</td>\n",
       "      <td>0.82</td>\n",
       "      <td>0.62</td>\n",
       "      <td>13.97</td>\n",
       "      <td>0.91</td>\n",
       "      <td>1.93</td>\n",
       "      <td>1</td>\n",
       "      <td>Shanghai, China</td>\n",
       "      <td>1.960000</td>\n",
       "      <td>1.0325</td>\n",
       "      <td>2021</td>\n",
       "      <td>Asia</td>\n",
       "    </tr>\n",
       "    <tr>\n",
       "      <th>2</th>\n",
       "      <td>Jakarta</td>\n",
       "      <td>Indonesia</td>\n",
       "      <td>2.54</td>\n",
       "      <td>22.25</td>\n",
       "      <td>3.50</td>\n",
       "      <td>2.02</td>\n",
       "      <td>3.18</td>\n",
       "      <td>2.19</td>\n",
       "      <td>0.59</td>\n",
       "      <td>0.27</td>\n",
       "      <td>1.28</td>\n",
       "      <td>1.21</td>\n",
       "      <td>0.83</td>\n",
       "      <td>1.70</td>\n",
       "      <td>6.66</td>\n",
       "      <td>3.46</td>\n",
       "      <td>8.32</td>\n",
       "      <td>2.80</td>\n",
       "      <td>1.52</td>\n",
       "      <td>2.08</td>\n",
       "      <td>1.24</td>\n",
       "      <td>1.35</td>\n",
       "      <td>2.10</td>\n",
       "      <td>1.13</td>\n",
       "      <td>0.42</td>\n",
       "      <td>20.66</td>\n",
       "      <td>2.06</td>\n",
       "      <td>3.18</td>\n",
       "      <td>1</td>\n",
       "      <td>Jakarta, Indonesia</td>\n",
       "      <td>2.133333</td>\n",
       "      <td>1.4550</td>\n",
       "      <td>2021</td>\n",
       "      <td>Asia</td>\n",
       "    </tr>\n",
       "    <tr>\n",
       "      <th>3</th>\n",
       "      <td>Manila</td>\n",
       "      <td>Philippines</td>\n",
       "      <td>3.54</td>\n",
       "      <td>27.40</td>\n",
       "      <td>3.54</td>\n",
       "      <td>1.24</td>\n",
       "      <td>1.90</td>\n",
       "      <td>2.91</td>\n",
       "      <td>0.93</td>\n",
       "      <td>0.51</td>\n",
       "      <td>1.63</td>\n",
       "      <td>1.19</td>\n",
       "      <td>0.89</td>\n",
       "      <td>1.73</td>\n",
       "      <td>5.06</td>\n",
       "      <td>4.19</td>\n",
       "      <td>6.64</td>\n",
       "      <td>2.66</td>\n",
       "      <td>1.42</td>\n",
       "      <td>2.95</td>\n",
       "      <td>1.42</td>\n",
       "      <td>1.76</td>\n",
       "      <td>1.75</td>\n",
       "      <td>1.36</td>\n",
       "      <td>0.65</td>\n",
       "      <td>8.84</td>\n",
       "      <td>1.15</td>\n",
       "      <td>1.55</td>\n",
       "      <td>1</td>\n",
       "      <td>Manila, Philippines</td>\n",
       "      <td>2.343333</td>\n",
       "      <td>1.5725</td>\n",
       "      <td>2021</td>\n",
       "      <td>Asia</td>\n",
       "    </tr>\n",
       "    <tr>\n",
       "      <th>4</th>\n",
       "      <td>Seoul</td>\n",
       "      <td>South Korea</td>\n",
       "      <td>7.16</td>\n",
       "      <td>52.77</td>\n",
       "      <td>6.03</td>\n",
       "      <td>3.02</td>\n",
       "      <td>4.52</td>\n",
       "      <td>3.86</td>\n",
       "      <td>1.46</td>\n",
       "      <td>0.78</td>\n",
       "      <td>2.13</td>\n",
       "      <td>2.78</td>\n",
       "      <td>3.66</td>\n",
       "      <td>4.02</td>\n",
       "      <td>11.13</td>\n",
       "      <td>10.62</td>\n",
       "      <td>40.41</td>\n",
       "      <td>6.79</td>\n",
       "      <td>3.70</td>\n",
       "      <td>6.40</td>\n",
       "      <td>6.36</td>\n",
       "      <td>3.86</td>\n",
       "      <td>2.81</td>\n",
       "      <td>2.40</td>\n",
       "      <td>1.06</td>\n",
       "      <td>15.08</td>\n",
       "      <td>2.10</td>\n",
       "      <td>2.49</td>\n",
       "      <td>1</td>\n",
       "      <td>Seoul, South Korea</td>\n",
       "      <td>5.630000</td>\n",
       "      <td>3.8575</td>\n",
       "      <td>2021</td>\n",
       "      <td>Asia</td>\n",
       "    </tr>\n",
       "  </tbody>\n",
       "</table>\n",
       "</div>"
      ],
      "text/plain": [
       "       City      Country  Inexpensive Meal  Midrange Meal For 2  McMeal  \\\n",
       "0     Delhi        India              4.90                22.04    4.28   \n",
       "1  Shanghai        China              5.59                40.51    5.59   \n",
       "2   Jakarta    Indonesia              2.54                22.25    3.50   \n",
       "3    Manila  Philippines              3.54                27.40    3.54   \n",
       "4     Seoul  South Korea              7.16                52.77    6.03   \n",
       "\n",
       "   Domestic Beer (at restaurant)  Imported Beer (at restaurant)  \\\n",
       "0                           1.84                           3.67   \n",
       "1                           1.12                           4.19   \n",
       "2                           2.02                           3.18   \n",
       "3                           1.24                           1.90   \n",
       "4                           3.02                           4.52   \n",
       "\n",
       "   Cappuccino (at restaurant)  Soft Drink (at restaurant)  \\\n",
       "0                        1.78                        0.48   \n",
       "1                        3.96                        0.52   \n",
       "2                        2.19                        0.59   \n",
       "3                        2.91                        0.93   \n",
       "4                        3.86                        1.46   \n",
       "\n",
       "   Water (at restaurant)  Milk (at Grocery)  White Bread  Rice  Eggs  Cheese  \\\n",
       "0                   0.19               0.73         0.51  0.88  1.01    4.32   \n",
       "1                   0.32               2.68         2.57  1.18  2.17   18.01   \n",
       "2                   0.27               1.28         1.21  0.83  1.70    6.66   \n",
       "3                   0.51               1.63         1.19  0.89  1.73    5.06   \n",
       "4                   0.78               2.13         2.78  3.66  4.02   11.13   \n",
       "\n",
       "   Chicken   Beef  Apples  Bananas  Oranges  Tomato  Potato  Onion  Lettuce  \\\n",
       "0     3.79   5.57    1.80     0.75     1.01    0.60    0.36   0.41     0.70   \n",
       "1     4.67  12.79    2.22     1.55     2.11    1.47    0.82   1.02     0.82   \n",
       "2     3.46   8.32    2.80     1.52     2.08    1.24    1.35   2.10     1.13   \n",
       "3     4.19   6.64    2.66     1.42     2.95    1.42    1.76   1.75     1.36   \n",
       "4    10.62  40.41    6.79     3.70     6.40    6.36    3.86   2.81     2.40   \n",
       "\n",
       "   Water (at Grocery)  Wine (at Grocery)  Domestic Beer (at Grocery)  \\\n",
       "0                0.36               9.79                        1.53   \n",
       "1                0.62              13.97                        0.91   \n",
       "2                0.42              20.66                        2.06   \n",
       "3                0.65               8.84                        1.15   \n",
       "4                1.06              15.08                        2.10   \n",
       "\n",
       "   Imported Beer (at Grocery)  data_quality         City/Country  Avg_Fruit  \\\n",
       "0                        2.51             1         Delhi, India   1.186667   \n",
       "1                        1.93             1      Shanghai, China   1.960000   \n",
       "2                        3.18             1   Jakarta, Indonesia   2.133333   \n",
       "3                        1.55             1  Manila, Philippines   2.343333   \n",
       "4                        2.49             1   Seoul, South Korea   5.630000   \n",
       "\n",
       "   Avg_Veg  year Continent  \n",
       "0   0.5175  2021      Asia  \n",
       "1   1.0325  2021      Asia  \n",
       "2   1.4550  2021      Asia  \n",
       "3   1.5725  2021      Asia  \n",
       "4   3.8575  2021      Asia  "
      ]
     },
     "execution_count": 2,
     "metadata": {},
     "output_type": "execute_result"
    }
   ],
   "source": [
    "df = pd.read_excel('Week 3 HW Output.xlsx')\n",
    "df.head()"
   ]
  },
  {
   "cell_type": "markdown",
   "id": "f94e7811",
   "metadata": {},
   "source": [
    "##### Prompt 2 -6\n",
    "\n",
    "Perform the following 5 steps to conduct a T-test comparing Average Fruit in each year. Make sure to interpret each test. Proceed with the statistical analysis regardless of if the assumptions are violated (this is just practice, in reality you would want to be very cautious about continuing with any analysis when assumptions are violated).\n",
    "\n",
    "Two things to note: (1) you will to reshape your data to facilitate your ability to complete steps, (2) it makes the most sense to compare data based on each country, this means the two distributions WILL be related since they are coming from the same country:\n",
    "    \n",
    "    Prompt 2. Visualize the distribution of each group (year).\n",
    "    Prompt 3. Test the normality of each group's distribution. Interpret the results.\n",
    "    Prompt 4. Test for homogenity of variance. Interpret the results.\n",
    "    Prompt 5. Visualize group means (this will repeat a prompt from Week 3).\n",
    "    Prompt 6. Perform and interpret the t-test."
   ]
  },
  {
   "cell_type": "code",
   "execution_count": 8,
   "id": "907f5c1e",
   "metadata": {},
   "outputs": [],
   "source": [
    "#Remove missing data\n",
    "df=df.dropna()\n",
    "#Group our dataframe by each Country\n",
    "#df = df.groupby('Country')\n",
    "\n",
    "#We will compare two different datasets, one with only reliable data (i.e, data_quality = 1) and one with unreliable data inclusive\n",
    "#OnlyRel = df[df['data_quality']==1] #Reliable dataset"
   ]
  },
  {
   "cell_type": "code",
   "execution_count": 9,
   "id": "54801e8d",
   "metadata": {},
   "outputs": [
    {
     "data": {
      "text/plain": [
       "<AxesSubplot:xlabel='year', ylabel='Avg_Fruit'>"
      ]
     },
     "execution_count": 9,
     "metadata": {},
     "output_type": "execute_result"
    },
    {
     "data": {
      "image/png": "[encoded data removed]",
      "text/plain": [
       "<Figure size 432x288 with 1 Axes>"
      ]
     },
     "metadata": {
      "needs_background": "light"
     },
     "output_type": "display_data"
    }
   ],
   "source": [
    "#Prompt 2 use histogram, hue = data_quality\n",
    "sns.boxplot(data=df,x='year', y='Avg_Fruit')\n",
    "#sns.boxplot(data=OnlyRel,x='Country', y = 'Avg_Fruit',hue='year')"
   ]
  },
  {
   "cell_type": "code",
   "execution_count": 10,
   "id": "08d21df2",
   "metadata": {},
   "outputs": [
    {
     "name": "stdout",
     "output_type": "stream",
     "text": [
      "NormaltestResult(statistic=281.02790754744126, pvalue=9.452903962421979e-62)\n",
      "NormaltestResult(statistic=276.49288528124794, pvalue=9.127100201119465e-61)\n"
     ]
    }
   ],
   "source": [
    "#Prompt 3 Test for normality of each group\n",
    "print(ss.normaltest(df['Avg_Fruit'][df['year']==2021])) \n",
    "#pvalue >.05 fail to reject the null and the data is normally distributed\n",
    "\n",
    "print(ss.normaltest(df['Avg_Fruit'][df['year']==2022])) \n",
    "#pvalue <.05 reject the null and the data is not normally distributed"
   ]
  },
  {
   "cell_type": "markdown",
   "id": "ee270065",
   "metadata": {},
   "source": [
    "#### Since our p-value is less than 0.05 we reject the null. The data is not normally distributed"
   ]
  },
  {
   "cell_type": "code",
   "execution_count": 11,
   "id": "bca826c3",
   "metadata": {},
   "outputs": [
    {
     "name": "stdout",
     "output_type": "stream",
     "text": [
      "LeveneResult(statistic=0.11950528801125297, pvalue=0.729612016771809)\n"
     ]
    }
   ],
   "source": [
    "#Prompt 4\n",
    "print(ss.levene(df['Avg_Fruit'][df['year']==2021],df['Avg_Fruit'][df['year']==2022])) "
   ]
  },
  {
   "cell_type": "markdown",
   "id": "c142d3d1",
   "metadata": {},
   "source": [
    "#### Since the p-value is greater than .05 we fail to reject the null. The groups have similar variance"
   ]
  },
  {
   "cell_type": "code",
   "execution_count": 12,
   "id": "58f63af9",
   "metadata": {},
   "outputs": [
    {
     "data": {
      "text/plain": [
       "<AxesSubplot:xlabel='year', ylabel='Avg_Fruit'>"
      ]
     },
     "execution_count": 12,
     "metadata": {},
     "output_type": "execute_result"
    },
    {
     "data": {
      "image/png": "[encoded data removed]",
      "text/plain": [
       "<Figure size 432x288 with 1 Axes>"
      ]
     },
     "metadata": {
      "needs_background": "light"
     },
     "output_type": "display_data"
    }
   ],
   "source": [
    "#Prompt 5\n",
    "sns.barplot(data=df,x='year', y='Avg_Fruit')"
   ]
  },
  {
   "cell_type": "code",
   "execution_count": 13,
   "id": "c7d0f220",
   "metadata": {},
   "outputs": [
    {
     "name": "stdout",
     "output_type": "stream",
     "text": [
      "-0.36979560965295966 0.7115782400668669\n",
      "The groups are the same\n"
     ]
    }
   ],
   "source": [
    "#Prompt 6\n",
    "tvalue, pvalue =ss.ttest_ind(df['Avg_Fruit'][df['year']==2021],df['Avg_Fruit'][df['year']==2022])#pvalue >.05 fail to reject the null; groups are not significant different\n",
    "print(tvalue, pvalue)\n",
    "\n",
    "#if/elif statement based on pvalue\n",
    "if pvalue > .05:\n",
    "    print('The groups are the same')\n",
    "elif pvalue < .05:\n",
    "    print('The groups are different')"
   ]
  },
  {
   "cell_type": "markdown",
   "id": "1ee09b6c",
   "metadata": {},
   "source": [
    "#### Since we failed to reject the null, it follows that the groups are the same. In conclusion, the means of average fruits for each country are the same in 2021 and 2022."
   ]
  },
  {
   "cell_type": "code",
   "execution_count": null,
   "id": "a5739101",
   "metadata": {},
   "outputs": [],
   "source": []
  },
  {
   "cell_type": "markdown",
   "id": "ab503332",
   "metadata": {},
   "source": [
    "##### Prompt 7 - 10\n",
    "Conduct a simple linear regression to demonstrate the relationship between average fruit and average veg with the following steps:\n",
    "\n",
    "    Prompt 7. Create a visualization of the relationship between average fruit and average veg (this will repeat a prompt from Week 3).\n",
    "    Prompt 8. Run the linear regression model to predict average veg from average fruit and interpret the results.\n",
    "    Prompt 9. Calculate the Rsquared to determine how much variance in average veg is accounted for by average fruit.\n",
    "    Prompt 10. Create a function that will return the predicted value of average veg for any inputted value of average fruit. Test your function so it outputs the predicted value of average veg with average fruit is 10.\n"
   ]
  },
  {
   "cell_type": "code",
   "execution_count": 14,
   "id": "4f860b04",
   "metadata": {},
   "outputs": [
    {
     "data": {
      "text/plain": [
       "<AxesSubplot:xlabel='Avg_Veg', ylabel='Avg_Fruit'>"
      ]
     },
     "execution_count": 14,
     "metadata": {},
     "output_type": "execute_result"
    },
    {
     "data": {
      "image/png": "[encoded data removed]",
      "text/plain": [
       "<Figure size 432x288 with 1 Axes>"
      ]
     },
     "metadata": {
      "needs_background": "light"
     },
     "output_type": "display_data"
    }
   ],
   "source": [
    "#Prompt 7\n",
    "sns.scatterplot(x=\"Avg_Veg\", y=\"Avg_Fruit\", hue='year', data=df)"
   ]
  },
  {
   "cell_type": "code",
   "execution_count": 15,
   "id": "bccf7ece",
   "metadata": {},
   "outputs": [
    {
     "data": {
      "text/plain": [
       "<AxesSubplot:xlabel='Avg_Veg', ylabel='Avg_Fruit'>"
      ]
     },
     "execution_count": 15,
     "metadata": {},
     "output_type": "execute_result"
    },
    {
     "data": {
      "image/png": "[encoded data removed]",
      "text/plain": [
       "<Figure size 432x288 with 1 Axes>"
      ]
     },
     "metadata": {
      "needs_background": "light"
     },
     "output_type": "display_data"
    }
   ],
   "source": [
    "#Prompt 8\n",
    "sns.regplot(x=\"Avg_Veg\", y=\"Avg_Fruit\",data=df)"
   ]
  },
  {
   "cell_type": "markdown",
   "id": "7c0beb58",
   "metadata": {},
   "source": [
    "#### An increase in the price of average vegetable will result in an increase in the price of average fruit, and vice versa."
   ]
  },
  {
   "cell_type": "code",
   "execution_count": 16,
   "id": "1d709787",
   "metadata": {},
   "outputs": [
    {
     "name": "stdout",
     "output_type": "stream",
     "text": [
      "0.8967521132111935 0.0\n",
      "Average Vegatables explains 0.8041643525487413 % of the variance in Average Fruit\n"
     ]
    }
   ],
   "source": [
    "#Prompt 9\n",
    "linregresults=ss.linregress(x=df['Avg_Veg'],y=df['Avg_Fruit'])\n",
    "print(linregresults.rvalue, linregresults.pvalue)\n",
    "print('Average Vegatables explains', linregresults.rvalue**2, '% of the variance in Average Fruit')"
   ]
  },
  {
   "cell_type": "code",
   "execution_count": 7,
   "id": "85713e59",
   "metadata": {},
   "outputs": [
    {
     "name": "stdout",
     "output_type": "stream",
     "text": [
      "Please input average fruit value10\n"
     ]
    }
   ],
   "source": [
    "#Prompt 10\n",
    "avg_fruit = int(input(\"Please input average fruit value\"))\n",
    "df['predicted']=linregresults.intercept + (linregresults.slope*avg_fruit)"
   ]
  },
  {
   "cell_type": "code",
   "execution_count": null,
   "id": "f02e280c",
   "metadata": {},
   "outputs": [],
   "source": []
  },
  {
   "cell_type": "code",
   "execution_count": null,
   "id": "b5e69c41",
   "metadata": {},
   "outputs": [],
   "source": []
  }
 ],
 "metadata": {
  "kernelspec": {
   "display_name": "Python 3 (ipykernel)",
   "language": "python",
   "name": "python3"
  },
  "language_info": {
   "codemirror_mode": {
    "name": "ipython",
    "version": 3
   },
   "file_extension": ".py",
   "mimetype": "text/x-python",
   "name": "python",
   "nbconvert_exporter": "python",
   "pygments_lexer": "ipython3",
   "version": "3.9.12"
  }
 },
 "nbformat": 4,
 "nbformat_minor": 5
}
